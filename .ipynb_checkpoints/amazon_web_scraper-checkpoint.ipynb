{
 "cells": [
  {
   "cell_type": "code",
   "execution_count": 1,
   "id": "50c32b39",
   "metadata": {},
   "outputs": [],
   "source": [
    "from bs4 import BeautifulSoup\n",
    "import requests\n",
    "import time\n",
    "import datetime\n",
    "import smtplib\n",
    "import csv\n",
    "import pandas as pd"
   ]
  },
  {
   "cell_type": "code",
   "execution_count": 12,
   "id": "ebdd1d56",
   "metadata": {},
   "outputs": [
    {
     "name": "stdout",
     "output_type": "stream",
     "text": [
      "\n",
      "            Amazon Basics Bluetooth Speaker, IPX6 Water Resistant, TWS Function, 9W, Powerful Bass, BT 5.0, Up to 15hrs Playtime*, microSD Card Slot, AUX Input, USB Support, in-Built Noise Cancelling Mic (Black)\n",
      "           \n",
      "\n",
      "                          999\n",
      "                          \n",
      "                           .\n",
      "                          \n",
      "\n"
     ]
    }
   ],
   "source": [
    "url = \"https://www.amazon.in/Amazon-Basics-Bluetooth-Resistant-Cancelling/dp/B0BC1VG5QF/?_encoding=UTF8&pd_rd_w=80rve&content-id=amzn1.sym.cab03d05-0086-4a9a-b597-f152050cab36&pf_rd_p=cab03d05-0086-4a9a-b597-f152050cab36&pf_rd_r=81NYH7RSSSD7C5GCSA56&pd_rd_wg=1kY0u&pd_rd_r=98420823-bc11-4301-954b-9b3c9b902d99&ref_=pd_gw_unk&th=1\"\n",
    "headers = {\"User-Agent\": \"Mozilla/5.0 (Windows NT 10.0; Win64; x64) AppleWebKit/537.36 (KHTML, like Gecko) Chrome/110.0.0.0 Safari/537.36\",  \"Accept-Encoding\":\"gzip, deflate\", \"Accept\":\"text/html,application/xhtml+xml,application/xml;q=0.9,*/*;q=0.8\", \"DNT\":\"1\",\"Connection\":\"close\", \"Upgrade-Insecure-Requests\":\"1\"}\n",
    "page = requests.get(url, headers=headers)\n",
    "\n",
    "soup1 = BeautifulSoup(page.content, \"html.parser\")\n",
    "\n",
    "soup2 = BeautifulSoup(soup1.prettify(), \"html.parser\")\n",
    "\n",
    "title = soup2.find(id=\"productTitle\").get_text()\n",
    "price = soup2.find(class_=\"a-price-whole\").get_text()\n",
    "\n",
    "print(title)\n",
    "print(price)"
   ]
  },
  {
   "cell_type": "code",
   "execution_count": 20,
   "id": "ec91bf91",
   "metadata": {},
   "outputs": [
    {
     "data": {
      "text/plain": [
       "'Amazon Basics Bluetooth Speaker, IPX6 Water Resistant, TWS Function, 9W, Powerful Bass, BT 5.0, Up to 15hrs Playtime*, microSD Card Slot, AUX Input, USB Support, in-Built Noise Cancelling Mic (Black)'"
      ]
     },
     "execution_count": 20,
     "metadata": {},
     "output_type": "execute_result"
    }
   ],
   "source": [
    "title = title.strip()\n",
    "title"
   ]
  },
  {
   "cell_type": "code",
   "execution_count": 19,
   "id": "82c776d7",
   "metadata": {},
   "outputs": [
    {
     "data": {
      "text/plain": [
       "'999'"
      ]
     },
     "execution_count": 19,
     "metadata": {},
     "output_type": "execute_result"
    }
   ],
   "source": [
    "price = price.split()[0]\n",
    "price"
   ]
  },
  {
   "cell_type": "code",
   "execution_count": 23,
   "id": "59daf209",
   "metadata": {},
   "outputs": [
    {
     "data": {
      "text/plain": [
       "datetime.date(2023, 3, 5)"
      ]
     },
     "execution_count": 23,
     "metadata": {},
     "output_type": "execute_result"
    }
   ],
   "source": [
    "today = datetime.date.today()\n",
    "today"
   ]
  },
  {
   "cell_type": "code",
   "execution_count": 24,
   "id": "34d57a48",
   "metadata": {},
   "outputs": [],
   "source": []
  },
  {
   "cell_type": "code",
   "execution_count": 25,
   "id": "ed1710e6",
   "metadata": {},
   "outputs": [],
   "source": [
    "header = ['Title', 'Price', 'Date']\n",
    "data = [title, price, today]\n",
    "\n",
    "with open('./amazon_web_scraper_data.csv', 'w', newline='', encoding='UTF8') as f:\n",
    "    writer = csv.writer(f)\n",
    "    writer.writerow(header)\n",
    "    writer.writerow(data)"
   ]
  },
  {
   "cell_type": "code",
   "execution_count": 26,
   "id": "b6eaed1a",
   "metadata": {},
   "outputs": [
    {
     "data": {
      "text/html": [
       "<div>\n",
       "<style scoped>\n",
       "    .dataframe tbody tr th:only-of-type {\n",
       "        vertical-align: middle;\n",
       "    }\n",
       "\n",
       "    .dataframe tbody tr th {\n",
       "        vertical-align: top;\n",
       "    }\n",
       "\n",
       "    .dataframe thead th {\n",
       "        text-align: right;\n",
       "    }\n",
       "</style>\n",
       "<table border=\"1\" class=\"dataframe\">\n",
       "  <thead>\n",
       "    <tr style=\"text-align: right;\">\n",
       "      <th></th>\n",
       "      <th>Title</th>\n",
       "      <th>Price</th>\n",
       "      <th>Date</th>\n",
       "    </tr>\n",
       "  </thead>\n",
       "  <tbody>\n",
       "    <tr>\n",
       "      <th>0</th>\n",
       "      <td>Amazon Basics Bluetooth Speaker, IPX6 Water Re...</td>\n",
       "      <td>999</td>\n",
       "      <td>2023-03-05</td>\n",
       "    </tr>\n",
       "  </tbody>\n",
       "</table>\n",
       "</div>"
      ],
      "text/plain": [
       "                                               Title  Price        Date\n",
       "0  Amazon Basics Bluetooth Speaker, IPX6 Water Re...    999  2023-03-05"
      ]
     },
     "execution_count": 26,
     "metadata": {},
     "output_type": "execute_result"
    }
   ],
   "source": [
    "df = pd.read_csv('./amazon_web_scraper_data.csv')\n",
    "df"
   ]
  },
  {
   "cell_type": "code",
   "execution_count": null,
   "id": "8eb9aafb",
   "metadata": {},
   "outputs": [],
   "source": [
    "def check_price:\n",
    "    url = \"https://www.amazon.in/Amazon-Basics-Bluetooth-Resistant-Cancelling/dp/B0BC1VG5QF/?_encoding=UTF8&pd_rd_w=80rve&content-id=amzn1.sym.cab03d05-0086-4a9a-b597-f152050cab36&pf_rd_p=cab03d05-0086-4a9a-b597-f152050cab36&pf_rd_r=81NYH7RSSSD7C5GCSA56&pd_rd_wg=1kY0u&pd_rd_r=98420823-bc11-4301-954b-9b3c9b902d99&ref_=pd_gw_unk&th=1\"\n",
    "    headers = {\"User-Agent\": \"Mozilla/5.0 (Windows NT 10.0; Win64; x64) AppleWebKit/537.36 (KHTML, like Gecko) Chrome/110.0.0.0 Safari/537.36\",  \"Accept-Encoding\":\"gzip, deflate\", \"Accept\":\"text/html,application/xhtml+xml,application/xml;q=0.9,*/*;q=0.8\", \"DNT\":\"1\",\"Connection\":\"close\", \"Upgrade-Insecure-Requests\":\"1\"}\n",
    "    page = requests.get(url, headers=headers)\n",
    "\n",
    "    soup1 = BeautifulSoup(page.content, \"html.parser\")\n",
    "\n",
    "    soup2 = BeautifulSoup(soup1.prettify(), \"html.parser\")\n",
    "\n",
    "    title = soup2.find(id=\"productTitle\").get_text()\n",
    "    price = soup2.find(class_=\"a-price-whole\").get_text()\n",
    "    today = datetime.date.today()\n",
    "    \n",
    "    title = title.strip()\n",
    "    price = price.split()[0]\n",
    "    \n",
    "    header = ['Title', 'Price', 'Date']\n",
    "    data = [title, price, today]\n",
    "\n",
    "    with open('./amazon_web_scraper_data.csv', 'a+', newline='', encoding='UTF8') as f:\n",
    "        writer = csv.writer(f)\n",
    "        writer.writerow(header)\n",
    "        writer.writerow(data)"
   ]
  }
 ],
 "metadata": {
  "kernelspec": {
   "display_name": "Python 3 (ipykernel)",
   "language": "python",
   "name": "python3"
  },
  "language_info": {
   "codemirror_mode": {
    "name": "ipython",
    "version": 3
   },
   "file_extension": ".py",
   "mimetype": "text/x-python",
   "name": "python",
   "nbconvert_exporter": "python",
   "pygments_lexer": "ipython3",
   "version": "3.10.1"
  }
 },
 "nbformat": 4,
 "nbformat_minor": 5
}
